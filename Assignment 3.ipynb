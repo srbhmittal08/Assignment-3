{
 "cells": [
  {
   "cell_type": "markdown",
   "id": "d40fd1ce-7ea5-49fd-83c9-b9bd831072f4",
   "metadata": {},
   "source": [
    "Answer 1- def is used to create a function. ex def saurabh(): Code of odd number in list as mentioned below "
   ]
  },
  {
   "cell_type": "code",
   "execution_count": 7,
   "id": "113c5b02-c6f5-4d90-b763-86d2ad19e157",
   "metadata": {},
   "outputs": [],
   "source": [
    "l = range(1,26)"
   ]
  },
  {
   "cell_type": "code",
   "execution_count": 8,
   "id": "8e046674-abfb-460e-a12b-c72191fc61a6",
   "metadata": {},
   "outputs": [],
   "source": [
    "def saurabh2(l):\n",
    "    '''This function is used for find out odd number in list of 25 range'''\n",
    "    l1 = []\n",
    "    for i in l :\n",
    "        if i%2 != 0:\n",
    "            l1.append(i)\n",
    "    return l1"
   ]
  },
  {
   "cell_type": "code",
   "execution_count": 9,
   "id": "67052008-445c-43fc-a525-7e81251002f4",
   "metadata": {},
   "outputs": [
    {
     "data": {
      "text/plain": [
       "[1, 3, 5, 7, 9, 11, 13, 15, 17, 19, 21, 23, 25]"
      ]
     },
     "execution_count": 9,
     "metadata": {},
     "output_type": "execute_result"
    }
   ],
   "source": [
    "saurabh2(l)"
   ]
  },
  {
   "cell_type": "markdown",
   "id": "3eed09ad-0888-42b4-b899-f8fae0e5d5b5",
   "metadata": {},
   "source": [
    "Answer 2- args- Args is used to return  'n' number of data in function . denomation of args by *args .This is only convention.\n",
    "          kargs- kargs is used to return in dictionary format. kargs is return key value. (**kargs)."
   ]
  },
  {
   "cell_type": "code",
   "execution_count": 94,
   "id": "6297b26f-7e98-4d98-b466-a484447c0178",
   "metadata": {},
   "outputs": [],
   "source": [
    "def saurabh(*args):\n",
    "    '''Example of args'''\n",
    "    return args"
   ]
  },
  {
   "cell_type": "code",
   "execution_count": 95,
   "id": "f8f05e50-c841-4c5e-b196-2f57c64c8f4c",
   "metadata": {},
   "outputs": [
    {
     "data": {
      "text/plain": [
       "(1, 4, 5, 'saurabh', 'mittal', (5+7j), {1, 3, 4, 5}, [45, 78, 98, 100])"
      ]
     },
     "execution_count": 95,
     "metadata": {},
     "output_type": "execute_result"
    }
   ],
   "source": [
    "saurabh(1, 4, 5 ,\"saurabh\", \"mittal\", 5+7j, {1,3 ,4 ,5}, [45, 78, 98, 100])"
   ]
  },
  {
   "cell_type": "code",
   "execution_count": 100,
   "id": "2b60a81d-0a07-4269-8b7e-ffd875741d4d",
   "metadata": {},
   "outputs": [],
   "source": [
    "def saurabh2(**kwargs):\n",
    "    '''Example of kwargs'''\n",
    "    return kwargs"
   ]
  },
  {
   "cell_type": "code",
   "execution_count": 101,
   "id": "163e340b-6284-4a9b-95da-cd925b55394f",
   "metadata": {},
   "outputs": [
    {
     "data": {
      "text/plain": [
       "{}"
      ]
     },
     "execution_count": 101,
     "metadata": {},
     "output_type": "execute_result"
    }
   ],
   "source": [
    "saurabh2()"
   ]
  },
  {
   "cell_type": "code",
   "execution_count": 102,
   "id": "b2ebc468-6cce-4bb9-a1e5-67c0bae6b06c",
   "metadata": {},
   "outputs": [
    {
     "data": {
      "text/plain": [
       "{'a': 56, 'b': 'saurabh', 'place': 'Bharatpur', 'Age': 25}"
      ]
     },
     "execution_count": 102,
     "metadata": {},
     "output_type": "execute_result"
    }
   ],
   "source": [
    "saurabh2(a = 56, b = \"saurabh\", place = \"Bharatpur\",Age = 25)"
   ]
  },
  {
   "cell_type": "markdown",
   "id": "836cfac7-a340-43f1-bfbc-c15a18bdd2e7",
   "metadata": {},
   "source": [
    "Answer 4- Generator function is used for generating object without storing memory \n",
    "yield keyword is used to made generator function."
   ]
  },
  {
   "cell_type": "code",
   "execution_count": 51,
   "id": "3892ee0d-6951-4494-bdd0-067f347da7f6",
   "metadata": {},
   "outputs": [],
   "source": [
    "range(10)\n",
    "def saurabh(n):\n",
    "      a, b = 1,1\n",
    "      for i in range(n):\n",
    "            yield a\n",
    "            a, b = a+2, b+3"
   ]
  },
  {
   "cell_type": "markdown",
   "id": "5719e77c-9686-4106-943e-d3bbeccfedc0",
   "metadata": {},
   "source": [
    "Example of generator function - Print odd number using odd function"
   ]
  },
  {
   "cell_type": "code",
   "execution_count": 54,
   "id": "68984cd5-6aa9-4524-adf1-ef8d07ec279b",
   "metadata": {},
   "outputs": [
    {
     "name": "stdout",
     "output_type": "stream",
     "text": [
      "1\n",
      "3\n",
      "5\n",
      "7\n",
      "9\n",
      "11\n",
      "13\n",
      "15\n",
      "17\n",
      "19\n",
      "21\n",
      "23\n",
      "25\n",
      "27\n",
      "29\n",
      "31\n",
      "33\n",
      "35\n",
      "37\n",
      "39\n",
      "41\n"
     ]
    }
   ],
   "source": [
    "for i in saurabh(21):\n",
    "    print(i)"
   ]
  },
  {
   "cell_type": "code",
   "execution_count": 53,
   "id": "b2c1d9f2-37c7-49b7-bea6-9483bcce4475",
   "metadata": {},
   "outputs": [
    {
     "data": {
      "text/plain": [
       "<generator object saurabh at 0x7fb6e6227d80>"
      ]
     },
     "execution_count": 53,
     "metadata": {},
     "output_type": "execute_result"
    }
   ],
   "source": [
    "saurabh(12)"
   ]
  },
  {
   "cell_type": "code",
   "execution_count": 4,
   "id": "de3d34f1-ec6c-4e40-b730-b1d3e84cb3dd",
   "metadata": {},
   "outputs": [
    {
     "data": {
      "text/plain": [
       "range(0, 10)"
      ]
     },
     "execution_count": 4,
     "metadata": {},
     "output_type": "execute_result"
    }
   ],
   "source": [
    "range(10)"
   ]
  },
  {
   "cell_type": "code",
   "execution_count": 6,
   "id": "fdb7f31a-3100-4afa-b7b0-7fec7060943c",
   "metadata": {},
   "outputs": [],
   "source": [
    "'''Answer 6'''\n",
    "def test_fib():\n",
    "    a,b = 0,1\n",
    "    while True:\n",
    "        yield a \n",
    "        a,b = b , a+b"
   ]
  },
  {
   "cell_type": "code",
   "execution_count": 8,
   "id": "9df4678a-44fe-4f9e-b335-6557ccc47132",
   "metadata": {},
   "outputs": [],
   "source": [
    "feb = test_fib()"
   ]
  },
  {
   "cell_type": "code",
   "execution_count": 10,
   "id": "d07d0465-64c6-457f-ac0d-e82b9cd997b9",
   "metadata": {},
   "outputs": [
    {
     "name": "stdout",
     "output_type": "stream",
     "text": [
      "0\n",
      "1\n",
      "1\n",
      "2\n",
      "3\n",
      "5\n",
      "8\n",
      "13\n",
      "21\n",
      "34\n"
     ]
    }
   ],
   "source": [
    "for i in range(10):\n",
    "    print(next(feb))"
   ]
  },
  {
   "cell_type": "markdown",
   "id": "04c2fc75-4ce5-4928-8468-4453156decd4",
   "metadata": {},
   "source": [
    "Answer 3"
   ]
  },
  {
   "cell_type": "markdown",
   "id": "624fdcca-04d6-42f4-95a8-9198471bf79c",
   "metadata": {},
   "source": [
    "Iterator- Iterator function convert the iterable object into iterator . if object is iterable than we use iterator function. Method used for iterator function is iter() .Iteration are used by using while and for loop."
   ]
  },
  {
   "cell_type": "code",
   "execution_count": 52,
   "id": "3a2dcec7-af16-451f-bb59-651804439de2",
   "metadata": {},
   "outputs": [],
   "source": [
    "l = [2,4, 6, 8, 10, 12, 14, 16,18, 20]\n"
   ]
  },
  {
   "cell_type": "code",
   "execution_count": 95,
   "id": "ab8df255-2c53-4acd-a7e1-89f01d7df8bc",
   "metadata": {},
   "outputs": [
    {
     "ename": "SyntaxError",
     "evalue": "invalid syntax (65815987.py, line 1)",
     "output_type": "error",
     "traceback": [
      "\u001b[0;36m  Cell \u001b[0;32mIn[95], line 1\u001b[0;36m\u001b[0m\n\u001b[0;31m    c = [0:5]\u001b[0m\n\u001b[0m          ^\u001b[0m\n\u001b[0;31mSyntaxError\u001b[0m\u001b[0;31m:\u001b[0m invalid syntax\n"
     ]
    }
   ],
   "source": [
    "c = [0:5]\n",
    "for i in l:\n",
    "    \n",
    "    if i< c:\n",
    "        print(i)"
   ]
  },
  {
   "cell_type": "code",
   "execution_count": 92,
   "id": "4ecc325e-6cd7-4b9d-8c62-396f229ae492",
   "metadata": {},
   "outputs": [
    {
     "data": {
      "text/plain": [
       "[2, 4, 6, 8, 10]"
      ]
     },
     "execution_count": 92,
     "metadata": {},
     "output_type": "execute_result"
    }
   ],
   "source": [
    "l[0:5]"
   ]
  },
  {
   "cell_type": "markdown",
   "id": "6f471114-008e-4a18-854c-89f0f35640ba",
   "metadata": {},
   "source": [
    "Answer 7"
   ]
  },
  {
   "cell_type": "code",
   "execution_count": 1,
   "id": "ffbc4121-5d26-4cc4-8cbc-03f5c93ddfbf",
   "metadata": {},
   "outputs": [],
   "source": [
    "s = 'pwskills'"
   ]
  },
  {
   "cell_type": "code",
   "execution_count": 2,
   "id": "cdbb9c86-48ec-4ee2-b474-093def1ee903",
   "metadata": {},
   "outputs": [
    {
     "data": {
      "text/plain": [
       "'pwskills'"
      ]
     },
     "execution_count": 2,
     "metadata": {},
     "output_type": "execute_result"
    }
   ],
   "source": [
    "s"
   ]
  },
  {
   "cell_type": "code",
   "execution_count": 69,
   "id": "d1f2d694-bb89-48b0-94b4-5c3b8bf77a94",
   "metadata": {},
   "outputs": [],
   "source": [
    "def saurabh(s):\n",
    "  l = []\n",
    "  for i in s:\n",
    "    l.append(i)\n",
    "    return i"
   ]
  },
  {
   "cell_type": "code",
   "execution_count": 70,
   "id": "301f93f1-7ab7-403f-9d97-ec7374d68978",
   "metadata": {},
   "outputs": [
    {
     "data": {
      "text/plain": [
       "['p', 'w', 's', 'k', 'i', 'l', 'l', 's']"
      ]
     },
     "execution_count": 70,
     "metadata": {},
     "output_type": "execute_result"
    }
   ],
   "source": [
    "l"
   ]
  },
  {
   "cell_type": "code",
   "execution_count": 72,
   "id": "3edf1452-2f0b-4481-954f-d2f53835631f",
   "metadata": {},
   "outputs": [
    {
     "data": {
      "text/plain": [
       "list"
      ]
     },
     "execution_count": 72,
     "metadata": {},
     "output_type": "execute_result"
    }
   ],
   "source": [
    "type(l)"
   ]
  },
  {
   "cell_type": "markdown",
   "id": "5c49e421-b534-4ef1-a09e-352496f9b9fc",
   "metadata": {},
   "source": [
    "Answer 9"
   ]
  },
  {
   "cell_type": "code",
   "execution_count": 2,
   "id": "c03e5ded-0db7-4af2-b414-904006a7430c",
   "metadata": {},
   "outputs": [],
   "source": [
    "l = range(1,100)"
   ]
  },
  {
   "cell_type": "code",
   "execution_count": 3,
   "id": "16ba44fa-3829-4b71-803f-27e6e6f6aeea",
   "metadata": {},
   "outputs": [
    {
     "data": {
      "text/plain": [
       "range"
      ]
     },
     "execution_count": 3,
     "metadata": {},
     "output_type": "execute_result"
    }
   ],
   "source": [
    "type(l)"
   ]
  },
  {
   "cell_type": "code",
   "execution_count": 4,
   "id": "365034dd-a143-46d6-8871-041ad3cd76ce",
   "metadata": {},
   "outputs": [],
   "source": [
    "def oddnumber(l):\n",
    "    l2= []\n",
    "    for i in l:\n",
    "        if i%2 !=0:\n",
    "             l2.append(i)\n",
    "        return l2"
   ]
  },
  {
   "cell_type": "code",
   "execution_count": 7,
   "id": "138c2979-d17c-4266-9933-601c9d4f254e",
   "metadata": {},
   "outputs": [
    {
     "ename": "NameError",
     "evalue": "name 'l2' is not defined",
     "output_type": "error",
     "traceback": [
      "\u001b[0;31m---------------------------------------------------------------------------\u001b[0m",
      "\u001b[0;31mNameError\u001b[0m                                 Traceback (most recent call last)",
      "Cell \u001b[0;32mIn[7], line 2\u001b[0m\n\u001b[1;32m      1\u001b[0m \u001b[38;5;28;01mfor\u001b[39;00m i \u001b[38;5;129;01min\u001b[39;00m oddnumber(l):\n\u001b[0;32m----> 2\u001b[0m     \u001b[38;5;28mprint\u001b[39m(\u001b[43ml2\u001b[49m)\n",
      "\u001b[0;31mNameError\u001b[0m: name 'l2' is not defined"
     ]
    }
   ],
   "source": []
  },
  {
   "cell_type": "code",
   "execution_count": 6,
   "id": "0e2973f3-fcac-4e89-8190-3a23d81fdb8a",
   "metadata": {},
   "outputs": [
    {
     "ename": "NameError",
     "evalue": "name 'l2' is not defined",
     "output_type": "error",
     "traceback": [
      "\u001b[0;31m---------------------------------------------------------------------------\u001b[0m",
      "\u001b[0;31mNameError\u001b[0m                                 Traceback (most recent call last)",
      "Cell \u001b[0;32mIn[6], line 1\u001b[0m\n\u001b[0;32m----> 1\u001b[0m \u001b[43ml2\u001b[49m\n",
      "\u001b[0;31mNameError\u001b[0m: name 'l2' is not defined"
     ]
    }
   ],
   "source": [
    "l2"
   ]
  },
  {
   "cell_type": "code",
   "execution_count": null,
   "id": "58ba6b7c-776a-46b8-8554-f4f392b2698c",
   "metadata": {},
   "outputs": [],
   "source": [
    "Answer "
   ]
  }
 ],
 "metadata": {
  "kernelspec": {
   "display_name": "Python 3 (ipykernel)",
   "language": "python",
   "name": "python3"
  },
  "language_info": {
   "codemirror_mode": {
    "name": "ipython",
    "version": 3
   },
   "file_extension": ".py",
   "mimetype": "text/x-python",
   "name": "python",
   "nbconvert_exporter": "python",
   "pygments_lexer": "ipython3",
   "version": "3.10.8"
  }
 },
 "nbformat": 4,
 "nbformat_minor": 5
}
